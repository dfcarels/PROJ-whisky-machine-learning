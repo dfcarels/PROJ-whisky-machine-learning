{
 "cells": [
  {
   "cell_type": "markdown",
   "metadata": {},
   "source": [
    "# Load in packages"
   ]
  },
  {
   "cell_type": "code",
   "execution_count": 2,
   "metadata": {},
   "outputs": [],
   "source": [
    "import requests\n",
    "from bs4 import BeautifulSoup\n",
    "import pandas as pd\n",
    "import re\n",
    "import winsound\n",
    "import os\n",
    "import pickle"
   ]
  },
  {
   "cell_type": "markdown",
   "metadata": {},
   "source": [
    "# Get the weblinks"
   ]
  },
  {
   "cell_type": "code",
   "execution_count": 2,
   "metadata": {},
   "outputs": [],
   "source": [
    "headers = {'User-Agent': 'Mozilla/5.0 (Windows NT 10.0; Win64; x64) AppleWebKit/537.36 (KHTML, like Gecko) Chrome/89.0.4389.82 Safari/537.36'}\n"
   ]
  },
  {
   "cell_type": "code",
   "execution_count": 3,
   "metadata": {},
   "outputs": [],
   "source": [
    "with open(\"whisky_all_links\", \"rb\") as fp:\n",
    "    all_links = pickle.load(fp)"
   ]
  },
  {
   "cell_type": "code",
   "execution_count": 4,
   "metadata": {},
   "outputs": [
    {
     "data": {
      "text/plain": [
       "36740"
      ]
     },
     "execution_count": 4,
     "metadata": {},
     "output_type": "execute_result"
    }
   ],
   "source": [
    "len(all_links)"
   ]
  },
  {
   "cell_type": "code",
   "execution_count": 6,
   "metadata": {},
   "outputs": [],
   "source": [
    "with open(\"whisky_separate_lists_of_links\", \"rb\") as fp:\n",
    "    separate_lists = pickle.load(fp)"
   ]
  },
  {
   "cell_type": "markdown",
   "metadata": {},
   "source": [
    "# Scrape \"Whisky Type\""
   ]
  },
  {
   "cell_type": "code",
   "execution_count": null,
   "metadata": {},
   "outputs": [],
   "source": [
    "product_title = []\n",
    "whisky_type = []\n",
    "\n",
    "list_number = 53\n",
    "\n",
    "active_list = separate_lists[list_number]\n",
    "\n",
    "for i in range(len(active_list)):\n",
    "    r = requests.get(active_list[i], headers=headers)\n",
    "    soup = BeautifulSoup(r.content, 'html.parser')\n",
    "    \n",
    "    #PRODUCT TITLE\n",
    "    try:\n",
    "        product_title.append(soup.find('meta', {'property': 'og:title'}).get('content').strip())\n",
    "    except:\n",
    "        product_title.append(\"N/A\")\n",
    "    \n",
    "    #WHISKY TYPE\n",
    "    try:\n",
    "        whisky_type.append(soup.find('tr', class_='sorte').find('span',class_='value').get_text().strip())\n",
    "    except:\n",
    "        whisky_type.append(\"N/A\")\n",
    "    \n",
    "dataset = {\n",
    "    'whisky_type':whisky_type,\n",
    "    'product_title':product_title,\n",
    "}\n",
    "\n",
    "pd.DataFrame(dataset).to_csv(f'df_{list_number}.csv')\n",
    "print(f\"df_{list_number} = DONE\")\n",
    "\n",
    "duration = 1000  # milliseconds\n",
    "freq = 440  # Hz\n",
    "winsound.Beep(freq, duration)"
   ]
  },
  {
   "cell_type": "code",
   "execution_count": 18,
   "metadata": {},
   "outputs": [],
   "source": [
    "df_1 = pd.read_csv(\"df_1.csv\")"
   ]
  },
  {
   "cell_type": "code",
   "execution_count": 27,
   "metadata": {},
   "outputs": [
    {
     "data": {
      "text/plain": [
       "668"
      ]
     },
     "execution_count": 27,
     "metadata": {},
     "output_type": "execute_result"
    }
   ],
   "source": [
    "len(df_1)"
   ]
  },
  {
   "cell_type": "markdown",
   "metadata": {},
   "source": [
    "# Join files"
   ]
  },
  {
   "cell_type": "code",
   "execution_count": 4,
   "metadata": {},
   "outputs": [
    {
     "data": {
      "text/html": [
       "<div>\n",
       "<style scoped>\n",
       "    .dataframe tbody tr th:only-of-type {\n",
       "        vertical-align: middle;\n",
       "    }\n",
       "\n",
       "    .dataframe tbody tr th {\n",
       "        vertical-align: top;\n",
       "    }\n",
       "\n",
       "    .dataframe thead th {\n",
       "        text-align: right;\n",
       "    }\n",
       "</style>\n",
       "<table border=\"1\" class=\"dataframe\">\n",
       "  <thead>\n",
       "    <tr style=\"text-align: right;\">\n",
       "      <th></th>\n",
       "      <th>Unnamed: 0</th>\n",
       "      <th>whisky_type</th>\n",
       "      <th>product_title</th>\n",
       "    </tr>\n",
       "  </thead>\n",
       "  <tbody>\n",
       "    <tr>\n",
       "      <th>0</th>\n",
       "      <td>0</td>\n",
       "      <td>Single Malt Whisky</td>\n",
       "      <td>Glenfarclas - 1954 Family Casks</td>\n",
       "    </tr>\n",
       "    <tr>\n",
       "      <th>1</th>\n",
       "      <td>1</td>\n",
       "      <td>Single Malt Whisky</td>\n",
       "      <td>Arran - 2011 Private Cask Whisky Fair Limburg</td>\n",
       "    </tr>\n",
       "    <tr>\n",
       "      <th>2</th>\n",
       "      <td>2</td>\n",
       "      <td>Single Malt Whisky</td>\n",
       "      <td>Royal Brackla 14 Years - 2001</td>\n",
       "    </tr>\n",
       "    <tr>\n",
       "      <th>3</th>\n",
       "      <td>3</td>\n",
       "      <td>Single Malt Whisky</td>\n",
       "      <td>Longrow Peated</td>\n",
       "    </tr>\n",
       "    <tr>\n",
       "      <th>4</th>\n",
       "      <td>4</td>\n",
       "      <td>Single Malt Whisky</td>\n",
       "      <td>St. Kilian 5 Years - 2016 Fass Nr. 1 - Johanni...</td>\n",
       "    </tr>\n",
       "    <tr>\n",
       "      <th>...</th>\n",
       "      <td>...</td>\n",
       "      <td>...</td>\n",
       "      <td>...</td>\n",
       "    </tr>\n",
       "    <tr>\n",
       "      <th>35399</th>\n",
       "      <td>663</td>\n",
       "      <td>Blended Whisky</td>\n",
       "      <td>Famous Grouse</td>\n",
       "    </tr>\n",
       "    <tr>\n",
       "      <th>35400</th>\n",
       "      <td>664</td>\n",
       "      <td>NaN</td>\n",
       "      <td>Finch 5 Years - 2008 Dinkel-Port 2013</td>\n",
       "    </tr>\n",
       "    <tr>\n",
       "      <th>35401</th>\n",
       "      <td>665</td>\n",
       "      <td>Single Malt Whisky</td>\n",
       "      <td>Highland Park 40 Years</td>\n",
       "    </tr>\n",
       "    <tr>\n",
       "      <th>35402</th>\n",
       "      <td>666</td>\n",
       "      <td>Single Malt Whiskey</td>\n",
       "      <td>NaN</td>\n",
       "    </tr>\n",
       "    <tr>\n",
       "      <th>35403</th>\n",
       "      <td>667</td>\n",
       "      <td>Single Malt Whisky</td>\n",
       "      <td>Mortlach 20 Years Cowie&amp;#039;s Blue Seal</td>\n",
       "    </tr>\n",
       "  </tbody>\n",
       "</table>\n",
       "<p>35404 rows × 3 columns</p>\n",
       "</div>"
      ],
      "text/plain": [
       "       Unnamed: 0          whisky_type  \\\n",
       "0               0   Single Malt Whisky   \n",
       "1               1   Single Malt Whisky   \n",
       "2               2   Single Malt Whisky   \n",
       "3               3   Single Malt Whisky   \n",
       "4               4   Single Malt Whisky   \n",
       "...           ...                  ...   \n",
       "35399         663       Blended Whisky   \n",
       "35400         664                  NaN   \n",
       "35401         665   Single Malt Whisky   \n",
       "35402         666  Single Malt Whiskey   \n",
       "35403         667   Single Malt Whisky   \n",
       "\n",
       "                                           product_title  \n",
       "0                        Glenfarclas - 1954 Family Casks  \n",
       "1          Arran - 2011 Private Cask Whisky Fair Limburg  \n",
       "2                          Royal Brackla 14 Years - 2001  \n",
       "3                                         Longrow Peated  \n",
       "4      St. Kilian 5 Years - 2016 Fass Nr. 1 - Johanni...  \n",
       "...                                                  ...  \n",
       "35399                                      Famous Grouse  \n",
       "35400              Finch 5 Years - 2008 Dinkel-Port 2013  \n",
       "35401                             Highland Park 40 Years  \n",
       "35402                                                NaN  \n",
       "35403           Mortlach 20 Years Cowie&#039;s Blue Seal  \n",
       "\n",
       "[35404 rows x 3 columns]"
      ]
     },
     "execution_count": 4,
     "metadata": {},
     "output_type": "execute_result"
    }
   ],
   "source": [
    "# Specify the path to your folder containing CSV files\n",
    "folder_path = 'C:/Users/Dieter Carels/OneDrive - Minds Alike/LEARNING/POSTGRADUAAT BIG DATA/DISSERTATION/DATA_WhiskyTypes'\n",
    "\n",
    "# Get a list of all CSV files in the folder\n",
    "csv_files = [file for file in os.listdir(folder_path) if file.endswith('.csv')]\n",
    "\n",
    "# Initialize an empty DataFrame to store the combined data\n",
    "whisky_types = pd.DataFrame()\n",
    "\n",
    "# Iterate through each CSV file and concatenate its data to the combined DataFrame\n",
    "for file in csv_files:\n",
    "    file_path = os.path.join(folder_path, file)\n",
    "    df = pd.read_csv(file_path)\n",
    "    whisky_types = pd.concat([whisky_types, df], ignore_index=True)\n",
    "\n",
    "# Display the combined DataFrame\n",
    "whisky_types\n"
   ]
  },
  {
   "cell_type": "code",
   "execution_count": 6,
   "metadata": {},
   "outputs": [],
   "source": [
    "whisky_types.to_csv('WHISKY_TYPE_RAW_DATA.csv',index=False)"
   ]
  }
 ],
 "metadata": {
  "kernelspec": {
   "display_name": "Python 3",
   "language": "python",
   "name": "python3"
  },
  "language_info": {
   "codemirror_mode": {
    "name": "ipython",
    "version": 3
   },
   "file_extension": ".py",
   "mimetype": "text/x-python",
   "name": "python",
   "nbconvert_exporter": "python",
   "pygments_lexer": "ipython3",
   "version": "3.10.0"
  }
 },
 "nbformat": 4,
 "nbformat_minor": 2
}
